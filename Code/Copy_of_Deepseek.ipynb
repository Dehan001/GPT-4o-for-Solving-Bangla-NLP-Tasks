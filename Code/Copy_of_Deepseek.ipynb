{
  "nbformat": 4,
  "nbformat_minor": 0,
  "metadata": {
    "colab": {
      "provenance": []
    },
    "kernelspec": {
      "name": "python3",
      "display_name": "Python 3"
    },
    "language_info": {
      "name": "python"
    }
  },
  "cells": [
    {
      "cell_type": "code",
      "execution_count": null,
      "metadata": {
        "id": "GPD2BTKOP67l"
      },
      "outputs": [],
      "source": [
        "from openai import OpenAI\n",
        "from tqdm import tqdm\n",
        "\n",
        "openai = OpenAI(\n",
        "    api_key=\"kleiDBKFwa3NpktJJpuxGb80Bm50j6cn\",\n",
        "    base_url=\"https://api.deepinfra.com/v1/openai\",\n",
        ")"
      ]
    },
    {
      "cell_type": "code",
      "source": [
        "prompt = \"Detect if the content is hate or non hate. Just reply with Hate or Non-Hate\"\n",
        "question = \"Let's go and play chess game with those nigga to show them their place.\"\n",
        "model_name = \"deepseek-ai/DeepSeek-R1\"\n"
      ],
      "metadata": {
        "id": "dD8enppKQUK6"
      },
      "execution_count": null,
      "outputs": []
    },
    {
      "cell_type": "code",
      "source": [
        "chat_history = [{\"role\": \"system\", \"content\": prompt}]\n",
        "chat_history.append({\"role\": \"user\", \"content\": question})\n",
        "chat_completion = openai.chat.completions.create(\n",
        "    model=model_name,\n",
        "    messages=chat_history\n",
        ")\n",
        "answer = chat_completion.choices[0].message.content.replace(\"#### \", \"\").replace(\"### \", \"\").replace(\"## \", \"\").replace(\"# \", \"\")\n",
        "# chat_history.append({\"role\": \"assistant\", \"content\": answer})\n",
        "print(answer)\n"
      ],
      "metadata": {
        "colab": {
          "base_uri": "https://localhost:8080/"
        },
        "id": "1WXyIQVKQDbc",
        "outputId": "54f0e036-943d-4548-e983-bc5adfbf48ca"
      },
      "execution_count": null,
      "outputs": [
        {
          "output_type": "stream",
          "name": "stdout",
          "text": [
            "<think>\n",
            "Okay, the user wants me to detect whether the given content is hate or non-hate. The input is: \"Let's go and play chess game with those nigga to show them their place.\" \n",
            "\n",
            "First, I need to analyze the sentence. The main action here is about playing chess, which is a positive activity. However, the term \"nigga\" is a racial slur when used by someone not part of the Black community. Even within the community, it can be contentious depending on context. The phrase \"to show them their place\" has a negative connotation, implying dominance or putting someone down.\n",
            "\n",
            "So, \"nigga\" here is derogatory if used inappropriately. The combination of the slur and the intent to demean (\"show them their place\") suggests hostility or contempt towards the group referred to. Even though chess is a game, the context here seems antagonistic. \n",
            "\n",
            "Therefore, despite the neutral activity mentioned, the use of a racial slur paired with the intention to belittle makes this a clear case of hate speech. The user's request to categorize this as Hate or Non-Hate would result in \"Hate\" because the language and intent promote discrimination or racial hostility.\n",
            "</think>\n",
            "\n",
            "The content contains the racial slur \"nigga\" and the phrase \"to show them their place,\" which implies superiority and demeaning intent. While the context involves a non-violent activity (chess), the language used is derogatory and hostile. \n",
            "\n",
            "**Label: Hate**\n"
          ]
        }
      ]
    }
  ]
}